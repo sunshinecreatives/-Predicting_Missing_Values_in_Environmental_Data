{
  "nbformat": 4,
  "nbformat_minor": 0,
  "metadata": {
    "colab": {
      "provenance": [],
      "authorship_tag": "ABX9TyM1vBpoQF3muXFI0gVTyfbi",
      "include_colab_link": true
    },
    "kernelspec": {
      "name": "python3",
      "display_name": "Python 3"
    },
    "language_info": {
      "name": "python"
    }
  },
  "cells": [
    {
      "cell_type": "markdown",
      "metadata": {
        "id": "view-in-github",
        "colab_type": "text"
      },
      "source": [
        "<a href=\"https://colab.research.google.com/github/sunshinecreatives/-Predicting_Missing_Values_in_Environmental_Data/blob/master/app.ipynb\" target=\"_parent\"><img src=\"https://colab.research.google.com/assets/colab-badge.svg\" alt=\"Open In Colab\"/></a>"
      ]
    },
    {
      "cell_type": "code",
      "execution_count": 1,
      "metadata": {
        "id": "bk2m9_yLaBL0"
      },
      "outputs": [],
      "source": [
        "import pandas as pd\n",
        "import numpy as np\n",
        "data_test = pd.read_csv(\"/content/wine_test.csv\")\n",
        "data_train = pd.read_csv(\"/content/wine_train.csv\")"
      ]
    },
    {
      "cell_type": "code",
      "source": [
        "#code to encode the column \"type\" from characters to intergers 0 and 1\n",
        "data_train['type']= data_train['type'].apply(lambda x:  0 if x == 'red' else 1 )"
      ],
      "metadata": {
        "id": "rUyZez71aYBX"
      },
      "execution_count": 2,
      "outputs": []
    },
    {
      "cell_type": "code",
      "source": [
        "data_test['type']= data_test['type'].apply(lambda x:  0 if x == 'red' else 1 )\n",
        "\n",
        "data_test.head(5)"
      ],
      "metadata": {
        "colab": {
          "base_uri": "https://localhost:8080/",
          "height": 223
        },
        "id": "QQzXHZm5ahOG",
        "outputId": "ee102e54-29a0-46c8-c1ac-26f73d5fa9a2"
      },
      "execution_count": 3,
      "outputs": [
        {
          "output_type": "execute_result",
          "data": {
            "text/plain": [
              "   fixed acidity  volatile acidity  citric acid  residual sugar  chlorides  \\\n",
              "0            6.6             0.390         0.38            9.70      0.053   \n",
              "1            8.9             0.120         0.45            1.80      0.075   \n",
              "2           15.0             0.210         0.44            2.20      0.075   \n",
              "3            6.2             0.300         0.49           11.20      0.058   \n",
              "4            5.2             0.405         0.15            1.45      0.038   \n",
              "\n",
              "   free sulfur dioxide  total sulfur dioxide  density    pH  sulphates  \\\n",
              "0                 49.0                 226.0  0.99787  3.30       0.57   \n",
              "1                 10.0                  21.0  0.99552  3.41       0.76   \n",
              "2                 10.0                  24.0  1.00005  3.07       0.84   \n",
              "3                 68.0                 215.0  0.99656  3.19       0.60   \n",
              "4                 10.0                  44.0  0.99125  3.52       0.40   \n",
              "\n",
              "   alcohol  type  quality  \n",
              "0      9.4     1        6  \n",
              "1     11.9     0        7  \n",
              "2      9.2     0        7  \n",
              "3      9.4     1        6  \n",
              "4     11.6     1        4  "
            ],
            "text/html": [
              "\n",
              "  <div id=\"df-c364e0b1-b843-4ab7-b2f4-2e21d9b3f46f\" class=\"colab-df-container\">\n",
              "    <div>\n",
              "<style scoped>\n",
              "    .dataframe tbody tr th:only-of-type {\n",
              "        vertical-align: middle;\n",
              "    }\n",
              "\n",
              "    .dataframe tbody tr th {\n",
              "        vertical-align: top;\n",
              "    }\n",
              "\n",
              "    .dataframe thead th {\n",
              "        text-align: right;\n",
              "    }\n",
              "</style>\n",
              "<table border=\"1\" class=\"dataframe\">\n",
              "  <thead>\n",
              "    <tr style=\"text-align: right;\">\n",
              "      <th></th>\n",
              "      <th>fixed acidity</th>\n",
              "      <th>volatile acidity</th>\n",
              "      <th>citric acid</th>\n",
              "      <th>residual sugar</th>\n",
              "      <th>chlorides</th>\n",
              "      <th>free sulfur dioxide</th>\n",
              "      <th>total sulfur dioxide</th>\n",
              "      <th>density</th>\n",
              "      <th>pH</th>\n",
              "      <th>sulphates</th>\n",
              "      <th>alcohol</th>\n",
              "      <th>type</th>\n",
              "      <th>quality</th>\n",
              "    </tr>\n",
              "  </thead>\n",
              "  <tbody>\n",
              "    <tr>\n",
              "      <th>0</th>\n",
              "      <td>6.6</td>\n",
              "      <td>0.390</td>\n",
              "      <td>0.38</td>\n",
              "      <td>9.70</td>\n",
              "      <td>0.053</td>\n",
              "      <td>49.0</td>\n",
              "      <td>226.0</td>\n",
              "      <td>0.99787</td>\n",
              "      <td>3.30</td>\n",
              "      <td>0.57</td>\n",
              "      <td>9.4</td>\n",
              "      <td>1</td>\n",
              "      <td>6</td>\n",
              "    </tr>\n",
              "    <tr>\n",
              "      <th>1</th>\n",
              "      <td>8.9</td>\n",
              "      <td>0.120</td>\n",
              "      <td>0.45</td>\n",
              "      <td>1.80</td>\n",
              "      <td>0.075</td>\n",
              "      <td>10.0</td>\n",
              "      <td>21.0</td>\n",
              "      <td>0.99552</td>\n",
              "      <td>3.41</td>\n",
              "      <td>0.76</td>\n",
              "      <td>11.9</td>\n",
              "      <td>0</td>\n",
              "      <td>7</td>\n",
              "    </tr>\n",
              "    <tr>\n",
              "      <th>2</th>\n",
              "      <td>15.0</td>\n",
              "      <td>0.210</td>\n",
              "      <td>0.44</td>\n",
              "      <td>2.20</td>\n",
              "      <td>0.075</td>\n",
              "      <td>10.0</td>\n",
              "      <td>24.0</td>\n",
              "      <td>1.00005</td>\n",
              "      <td>3.07</td>\n",
              "      <td>0.84</td>\n",
              "      <td>9.2</td>\n",
              "      <td>0</td>\n",
              "      <td>7</td>\n",
              "    </tr>\n",
              "    <tr>\n",
              "      <th>3</th>\n",
              "      <td>6.2</td>\n",
              "      <td>0.300</td>\n",
              "      <td>0.49</td>\n",
              "      <td>11.20</td>\n",
              "      <td>0.058</td>\n",
              "      <td>68.0</td>\n",
              "      <td>215.0</td>\n",
              "      <td>0.99656</td>\n",
              "      <td>3.19</td>\n",
              "      <td>0.60</td>\n",
              "      <td>9.4</td>\n",
              "      <td>1</td>\n",
              "      <td>6</td>\n",
              "    </tr>\n",
              "    <tr>\n",
              "      <th>4</th>\n",
              "      <td>5.2</td>\n",
              "      <td>0.405</td>\n",
              "      <td>0.15</td>\n",
              "      <td>1.45</td>\n",
              "      <td>0.038</td>\n",
              "      <td>10.0</td>\n",
              "      <td>44.0</td>\n",
              "      <td>0.99125</td>\n",
              "      <td>3.52</td>\n",
              "      <td>0.40</td>\n",
              "      <td>11.6</td>\n",
              "      <td>1</td>\n",
              "      <td>4</td>\n",
              "    </tr>\n",
              "  </tbody>\n",
              "</table>\n",
              "</div>\n",
              "    <div class=\"colab-df-buttons\">\n",
              "\n",
              "  <div class=\"colab-df-container\">\n",
              "    <button class=\"colab-df-convert\" onclick=\"convertToInteractive('df-c364e0b1-b843-4ab7-b2f4-2e21d9b3f46f')\"\n",
              "            title=\"Convert this dataframe to an interactive table.\"\n",
              "            style=\"display:none;\">\n",
              "\n",
              "  <svg xmlns=\"http://www.w3.org/2000/svg\" height=\"24px\" viewBox=\"0 -960 960 960\">\n",
              "    <path d=\"M120-120v-720h720v720H120Zm60-500h600v-160H180v160Zm220 220h160v-160H400v160Zm0 220h160v-160H400v160ZM180-400h160v-160H180v160Zm440 0h160v-160H620v160ZM180-180h160v-160H180v160Zm440 0h160v-160H620v160Z\"/>\n",
              "  </svg>\n",
              "    </button>\n",
              "\n",
              "  <style>\n",
              "    .colab-df-container {\n",
              "      display:flex;\n",
              "      gap: 12px;\n",
              "    }\n",
              "\n",
              "    .colab-df-convert {\n",
              "      background-color: #E8F0FE;\n",
              "      border: none;\n",
              "      border-radius: 50%;\n",
              "      cursor: pointer;\n",
              "      display: none;\n",
              "      fill: #1967D2;\n",
              "      height: 32px;\n",
              "      padding: 0 0 0 0;\n",
              "      width: 32px;\n",
              "    }\n",
              "\n",
              "    .colab-df-convert:hover {\n",
              "      background-color: #E2EBFA;\n",
              "      box-shadow: 0px 1px 2px rgba(60, 64, 67, 0.3), 0px 1px 3px 1px rgba(60, 64, 67, 0.15);\n",
              "      fill: #174EA6;\n",
              "    }\n",
              "\n",
              "    .colab-df-buttons div {\n",
              "      margin-bottom: 4px;\n",
              "    }\n",
              "\n",
              "    [theme=dark] .colab-df-convert {\n",
              "      background-color: #3B4455;\n",
              "      fill: #D2E3FC;\n",
              "    }\n",
              "\n",
              "    [theme=dark] .colab-df-convert:hover {\n",
              "      background-color: #434B5C;\n",
              "      box-shadow: 0px 1px 3px 1px rgba(0, 0, 0, 0.15);\n",
              "      filter: drop-shadow(0px 1px 2px rgba(0, 0, 0, 0.3));\n",
              "      fill: #FFFFFF;\n",
              "    }\n",
              "  </style>\n",
              "\n",
              "    <script>\n",
              "      const buttonEl =\n",
              "        document.querySelector('#df-c364e0b1-b843-4ab7-b2f4-2e21d9b3f46f button.colab-df-convert');\n",
              "      buttonEl.style.display =\n",
              "        google.colab.kernel.accessAllowed ? 'block' : 'none';\n",
              "\n",
              "      async function convertToInteractive(key) {\n",
              "        const element = document.querySelector('#df-c364e0b1-b843-4ab7-b2f4-2e21d9b3f46f');\n",
              "        const dataTable =\n",
              "          await google.colab.kernel.invokeFunction('convertToInteractive',\n",
              "                                                    [key], {});\n",
              "        if (!dataTable) return;\n",
              "\n",
              "        const docLinkHtml = 'Like what you see? Visit the ' +\n",
              "          '<a target=\"_blank\" href=https://colab.research.google.com/notebooks/data_table.ipynb>data table notebook</a>'\n",
              "          + ' to learn more about interactive tables.';\n",
              "        element.innerHTML = '';\n",
              "        dataTable['output_type'] = 'display_data';\n",
              "        await google.colab.output.renderOutput(dataTable, element);\n",
              "        const docLink = document.createElement('div');\n",
              "        docLink.innerHTML = docLinkHtml;\n",
              "        element.appendChild(docLink);\n",
              "      }\n",
              "    </script>\n",
              "  </div>\n",
              "\n",
              "\n",
              "<div id=\"df-404cc94b-9402-472d-9280-31bf5a23c793\">\n",
              "  <button class=\"colab-df-quickchart\" onclick=\"quickchart('df-404cc94b-9402-472d-9280-31bf5a23c793')\"\n",
              "            title=\"Suggest charts\"\n",
              "            style=\"display:none;\">\n",
              "\n",
              "<svg xmlns=\"http://www.w3.org/2000/svg\" height=\"24px\"viewBox=\"0 0 24 24\"\n",
              "     width=\"24px\">\n",
              "    <g>\n",
              "        <path d=\"M19 3H5c-1.1 0-2 .9-2 2v14c0 1.1.9 2 2 2h14c1.1 0 2-.9 2-2V5c0-1.1-.9-2-2-2zM9 17H7v-7h2v7zm4 0h-2V7h2v10zm4 0h-2v-4h2v4z\"/>\n",
              "    </g>\n",
              "</svg>\n",
              "  </button>\n",
              "\n",
              "<style>\n",
              "  .colab-df-quickchart {\n",
              "      --bg-color: #E8F0FE;\n",
              "      --fill-color: #1967D2;\n",
              "      --hover-bg-color: #E2EBFA;\n",
              "      --hover-fill-color: #174EA6;\n",
              "      --disabled-fill-color: #AAA;\n",
              "      --disabled-bg-color: #DDD;\n",
              "  }\n",
              "\n",
              "  [theme=dark] .colab-df-quickchart {\n",
              "      --bg-color: #3B4455;\n",
              "      --fill-color: #D2E3FC;\n",
              "      --hover-bg-color: #434B5C;\n",
              "      --hover-fill-color: #FFFFFF;\n",
              "      --disabled-bg-color: #3B4455;\n",
              "      --disabled-fill-color: #666;\n",
              "  }\n",
              "\n",
              "  .colab-df-quickchart {\n",
              "    background-color: var(--bg-color);\n",
              "    border: none;\n",
              "    border-radius: 50%;\n",
              "    cursor: pointer;\n",
              "    display: none;\n",
              "    fill: var(--fill-color);\n",
              "    height: 32px;\n",
              "    padding: 0;\n",
              "    width: 32px;\n",
              "  }\n",
              "\n",
              "  .colab-df-quickchart:hover {\n",
              "    background-color: var(--hover-bg-color);\n",
              "    box-shadow: 0 1px 2px rgba(60, 64, 67, 0.3), 0 1px 3px 1px rgba(60, 64, 67, 0.15);\n",
              "    fill: var(--button-hover-fill-color);\n",
              "  }\n",
              "\n",
              "  .colab-df-quickchart-complete:disabled,\n",
              "  .colab-df-quickchart-complete:disabled:hover {\n",
              "    background-color: var(--disabled-bg-color);\n",
              "    fill: var(--disabled-fill-color);\n",
              "    box-shadow: none;\n",
              "  }\n",
              "\n",
              "  .colab-df-spinner {\n",
              "    border: 2px solid var(--fill-color);\n",
              "    border-color: transparent;\n",
              "    border-bottom-color: var(--fill-color);\n",
              "    animation:\n",
              "      spin 1s steps(1) infinite;\n",
              "  }\n",
              "\n",
              "  @keyframes spin {\n",
              "    0% {\n",
              "      border-color: transparent;\n",
              "      border-bottom-color: var(--fill-color);\n",
              "      border-left-color: var(--fill-color);\n",
              "    }\n",
              "    20% {\n",
              "      border-color: transparent;\n",
              "      border-left-color: var(--fill-color);\n",
              "      border-top-color: var(--fill-color);\n",
              "    }\n",
              "    30% {\n",
              "      border-color: transparent;\n",
              "      border-left-color: var(--fill-color);\n",
              "      border-top-color: var(--fill-color);\n",
              "      border-right-color: var(--fill-color);\n",
              "    }\n",
              "    40% {\n",
              "      border-color: transparent;\n",
              "      border-right-color: var(--fill-color);\n",
              "      border-top-color: var(--fill-color);\n",
              "    }\n",
              "    60% {\n",
              "      border-color: transparent;\n",
              "      border-right-color: var(--fill-color);\n",
              "    }\n",
              "    80% {\n",
              "      border-color: transparent;\n",
              "      border-right-color: var(--fill-color);\n",
              "      border-bottom-color: var(--fill-color);\n",
              "    }\n",
              "    90% {\n",
              "      border-color: transparent;\n",
              "      border-bottom-color: var(--fill-color);\n",
              "    }\n",
              "  }\n",
              "</style>\n",
              "\n",
              "  <script>\n",
              "    async function quickchart(key) {\n",
              "      const quickchartButtonEl =\n",
              "        document.querySelector('#' + key + ' button');\n",
              "      quickchartButtonEl.disabled = true;  // To prevent multiple clicks.\n",
              "      quickchartButtonEl.classList.add('colab-df-spinner');\n",
              "      try {\n",
              "        const charts = await google.colab.kernel.invokeFunction(\n",
              "            'suggestCharts', [key], {});\n",
              "      } catch (error) {\n",
              "        console.error('Error during call to suggestCharts:', error);\n",
              "      }\n",
              "      quickchartButtonEl.classList.remove('colab-df-spinner');\n",
              "      quickchartButtonEl.classList.add('colab-df-quickchart-complete');\n",
              "    }\n",
              "    (() => {\n",
              "      let quickchartButtonEl =\n",
              "        document.querySelector('#df-404cc94b-9402-472d-9280-31bf5a23c793 button');\n",
              "      quickchartButtonEl.style.display =\n",
              "        google.colab.kernel.accessAllowed ? 'block' : 'none';\n",
              "    })();\n",
              "  </script>\n",
              "</div>\n",
              "    </div>\n",
              "  </div>\n"
            ],
            "application/vnd.google.colaboratory.intrinsic+json": {
              "type": "dataframe",
              "variable_name": "data_test",
              "summary": "{\n  \"name\": \"data_test\",\n  \"rows\": 1950,\n  \"fields\": [\n    {\n      \"column\": \"fixed acidity\",\n      \"properties\": {\n        \"dtype\": \"number\",\n        \"std\": 1.3323325933572068,\n        \"min\": 3.8,\n        \"max\": 15.6,\n        \"num_unique_values\": 88,\n        \"samples\": [\n          12.7,\n          6.6,\n          6.7\n        ],\n        \"semantic_type\": \"\",\n        \"description\": \"\"\n      }\n    },\n    {\n      \"column\": \"volatile acidity\",\n      \"properties\": {\n        \"dtype\": \"number\",\n        \"std\": 0.1666915972657847,\n        \"min\": 0.08,\n        \"max\": 1.24,\n        \"num_unique_values\": 138,\n        \"samples\": [\n          0.51,\n          0.78,\n          0.25\n        ],\n        \"semantic_type\": \"\",\n        \"description\": \"\"\n      }\n    },\n    {\n      \"column\": \"citric acid\",\n      \"properties\": {\n        \"dtype\": \"number\",\n        \"std\": 0.14386450565522713,\n        \"min\": 0.0,\n        \"max\": 0.81,\n        \"num_unique_values\": 78,\n        \"samples\": [\n          0.02,\n          0.38,\n          0.24\n        ],\n        \"semantic_type\": \"\",\n        \"description\": \"\"\n      }\n    },\n    {\n      \"column\": \"residual sugar\",\n      \"properties\": {\n        \"dtype\": \"number\",\n        \"std\": 4.69129400587443,\n        \"min\": 0.7,\n        \"max\": 31.6,\n        \"num_unique_values\": 240,\n        \"samples\": [\n          8.2,\n          26.05,\n          4.25\n        ],\n        \"semantic_type\": \"\",\n        \"description\": \"\"\n      }\n    },\n    {\n      \"column\": \"chlorides\",\n      \"properties\": {\n        \"dtype\": \"number\",\n        \"std\": 0.03614328589679562,\n        \"min\": 0.009,\n        \"max\": 0.415,\n        \"num_unique_values\": 161,\n        \"samples\": [\n          0.205,\n          0.105,\n          0.368\n        ],\n        \"semantic_type\": \"\",\n        \"description\": \"\"\n      }\n    },\n    {\n      \"column\": \"free sulfur dioxide\",\n      \"properties\": {\n        \"dtype\": \"number\",\n        \"std\": 17.756823057624587,\n        \"min\": 3.0,\n        \"max\": 138.5,\n        \"num_unique_values\": 97,\n        \"samples\": [\n          56.0,\n          38.0,\n          87.0\n        ],\n        \"semantic_type\": \"\",\n        \"description\": \"\"\n      }\n    },\n    {\n      \"column\": \"total sulfur dioxide\",\n      \"properties\": {\n        \"dtype\": \"number\",\n        \"std\": 56.43542822412326,\n        \"min\": 6.0,\n        \"max\": 272.0,\n        \"num_unique_values\": 245,\n        \"samples\": [\n          149.0,\n          168.0,\n          94.0\n        ],\n        \"semantic_type\": \"\",\n        \"description\": \"\"\n      }\n    },\n    {\n      \"column\": \"density\",\n      \"properties\": {\n        \"dtype\": \"number\",\n        \"std\": 0.002931346152101818,\n        \"min\": 0.9874,\n        \"max\": 1.0103,\n        \"num_unique_values\": 657,\n        \"samples\": [\n          1.0008,\n          0.99272,\n          0.999\n        ],\n        \"semantic_type\": \"\",\n        \"description\": \"\"\n      }\n    },\n    {\n      \"column\": \"pH\",\n      \"properties\": {\n        \"dtype\": \"number\",\n        \"std\": 0.16174526882969745,\n        \"min\": 2.74,\n        \"max\": 3.81,\n        \"num_unique_values\": 96,\n        \"samples\": [\n          3.57,\n          3.67,\n          3.51\n        ],\n        \"semantic_type\": \"\",\n        \"description\": \"\"\n      }\n    },\n    {\n      \"column\": \"sulphates\",\n      \"properties\": {\n        \"dtype\": \"number\",\n        \"std\": 0.1480347701322027,\n        \"min\": 0.22,\n        \"max\": 1.61,\n        \"num_unique_values\": 87,\n        \"samples\": [\n          1.56,\n          0.57,\n          0.64\n        ],\n        \"semantic_type\": \"\",\n        \"description\": \"\"\n      }\n    },\n    {\n      \"column\": \"alcohol\",\n      \"properties\": {\n        \"dtype\": \"number\",\n        \"std\": 1.19178064928534,\n        \"min\": 8.4,\n        \"max\": 14.0,\n        \"num_unique_values\": 77,\n        \"samples\": [\n          10.3,\n          9.6,\n          12.9\n        ],\n        \"semantic_type\": \"\",\n        \"description\": \"\"\n      }\n    },\n    {\n      \"column\": \"type\",\n      \"properties\": {\n        \"dtype\": \"number\",\n        \"std\": 0,\n        \"min\": 0,\n        \"max\": 1,\n        \"num_unique_values\": 2,\n        \"samples\": [\n          0,\n          1\n        ],\n        \"semantic_type\": \"\",\n        \"description\": \"\"\n      }\n    },\n    {\n      \"column\": \"quality\",\n      \"properties\": {\n        \"dtype\": \"number\",\n        \"std\": 0,\n        \"min\": 3,\n        \"max\": 9,\n        \"num_unique_values\": 7,\n        \"samples\": [\n          6,\n          7\n        ],\n        \"semantic_type\": \"\",\n        \"description\": \"\"\n      }\n    }\n  ]\n}"
            }
          },
          "metadata": {},
          "execution_count": 3
        }
      ]
    },
    {
      "cell_type": "code",
      "source": [
        "from sklearn.model_selection import train_test_split\n",
        "\n",
        "#  Define features and target for training\n",
        "\n",
        "X_train = data_train.drop('quality', axis=1)\n",
        "y_train = data_train['quality']\n",
        "# Define features and target for test\n",
        "X_test_full = data_test.drop('quality', axis=1)\n",
        "y_test_full = data_test['quality']\n",
        "# Standardize the\n",
        "# datascaler = StandardScaler() X_train = scaler.fit_transform(X_train) X_test_full = scaler.transform(X_test_full)\n",
        "# Step 3: Split the test set into validation and test sets (50:50 ratio)\n",
        "X_val, X_test, y_val, y_test = train_test_split(X_test_full, y_test_full, test_size=0.5, random_state=42)\n",
        "\n",
        "print(f\"Training set size: {len(X_val)}\")\n",
        "print(f\"Test set size: {len(X_test)}\")\n",
        "print(f\"Training set size: {len(y_val)}\")\n",
        "print(f\"Test set size: {len(y_test)}\")\n",
        "print(f\"Training set size: {len(X_train)}\")\n",
        "print(f\"Test set size: {len(y_train)}\")"
      ],
      "metadata": {
        "colab": {
          "base_uri": "https://localhost:8080/"
        },
        "id": "XhaVfKvba_iA",
        "outputId": "c4f38f1f-53e9-4ff7-d12a-a24b61876ff2"
      },
      "execution_count": 4,
      "outputs": [
        {
          "output_type": "stream",
          "name": "stdout",
          "text": [
            "Training set size: 975\n",
            "Test set size: 975\n",
            "Training set size: 975\n",
            "Test set size: 975\n",
            "Training set size: 4547\n",
            "Test set size: 4547\n"
          ]
        }
      ]
    },
    {
      "cell_type": "code",
      "source": [
        "from sklearn.preprocessing import StandardScaler\n",
        "# Define features and target for training\n",
        "X_train = data_train.drop('quality', axis=1)\n",
        "y_train = data_train['quality']\n",
        "\n",
        "# Define features and target for test\n",
        "X_test_full = data_test.drop('quality', axis=1)\n",
        "y_test_full = data_test['quality']\n",
        "\n",
        "# Standardize the data\n",
        "scaler = StandardScaler()\n",
        "X_train = scaler.fit_transform(X_train)\n",
        "X_test_full = scaler.transform(X_test_full)\n",
        "\n",
        "# Step 3: Split the test set into validation and test sets (50:50 ratio)\n",
        "X_val, X_test, y_val, y_test = train_test_split(X_test_full, y_test_full, test_size=0.5, random_state=42)\n",
        "\n",
        "print(f\"Training set size: {len(X_train)}\")\n",
        "print(f\"Validation set size: {len(X_val)}\")\n",
        "print(f\"Test set size: {len(X_test)}\")\n",
        "print(f\"Training set target size: {len(y_train)}\")\n",
        "print(f\"Validation set target size: {len(y_val)}\")\n",
        "print(f\"Test set target size: {len(y_test)}\")\n"
      ],
      "metadata": {
        "colab": {
          "base_uri": "https://localhost:8080/"
        },
        "id": "HW_aD6BxbCIf",
        "outputId": "3aa0ae65-2ef8-4a55-cf1f-15b3f15b9849"
      },
      "execution_count": 5,
      "outputs": [
        {
          "output_type": "stream",
          "name": "stdout",
          "text": [
            "Training set size: 4547\n",
            "Validation set size: 975\n",
            "Test set size: 975\n",
            "Training set target size: 4547\n",
            "Validation set target size: 975\n",
            "Test set target size: 975\n"
          ]
        }
      ]
    },
    {
      "cell_type": "code",
      "source": [
        "import pandas as pd\n",
        "from sklearn.model_selection import train_test_split\n",
        "from sklearn.ensemble import RandomForestClassifier\n",
        "from sklearn.preprocessing import StandardScaler\n",
        "from sklearn.metrics import accuracy_score, f1_score, classification_report\n",
        "from sklearn.metrics import mean_squared_error, r2_score, mean_absolute_error, accuracy_score, f1_score\n",
        "\n",
        "\n",
        "# Initialize and train the Random Forest classifier\n",
        "rf_model = RandomForestClassifier(n_estimators=100, random_state=42)\n",
        "rf_model.fit(X_train, y_train)\n",
        "\n",
        "# Predict on the validation set\n",
        "y_val_pred = rf_model.predict(X_val)\n",
        "\n",
        "# Evaluate the model\n",
        "val_accuracy = accuracy_score(y_val, y_val_pred)\n",
        "val_classification_report = classification_report(y_val, y_val_pred)\n",
        "\n",
        "print(f\"Validation Accuracy: {val_accuracy}\")\n",
        "print(\"Validation Classification Report:\")\n",
        "print(val_classification_report)\n",
        "\n",
        "# Predict on the test set\n",
        "y_test_pred = rf_model.predict(X_test)\n",
        "\n",
        "\n",
        "# Evaluate the model\n",
        "mse = mean_squared_error(y_test, y_test_pred)\n",
        "mae = mean_absolute_error(y_test, y_test_pred)\n",
        "rmse = mse ** 0.5\n",
        "r2 = r2_score(y_test, y_test_pred)\n",
        "\n",
        "# Evaluate the model\n",
        "test_accuracy = accuracy_score(y_test, y_test_pred)\n",
        "test_f1 = f1_score(y_test, y_test_pred, average='macro')\n",
        "\n",
        "print(f\"Test Accuracy: {test_accuracy:.2f}\")\n",
        "print(f\"Macro F1-score: {test_f1:.2f}\")\n",
        "\n",
        "print(f\"Mean Squared Error: {mse:.2f}\")\n",
        "print(f\"Mean Absolute Error: {mae:.2f}\")\n",
        "print(f\"Root Mean Squared Error: {rmse:.2f}\")\n",
        "print(f\"R-squared: {r2:.2f}\")\n",
        "\n",
        "# Print the actual and predicted values for the first 10 lines\n",
        "print(\"\\nActual\\tPredicted\")\n",
        "print(\"-\" * 30)\n",
        "for i in range(10):\n",
        "    print(f\"{y_test.iloc[i]}\\t{y_test_pred[i]}\")\n"
      ],
      "metadata": {
        "colab": {
          "base_uri": "https://localhost:8080/"
        },
        "id": "Trx2DUqQakmS",
        "outputId": "0f43adc7-37fe-4a70-943b-db7da58e4786"
      },
      "execution_count": 6,
      "outputs": [
        {
          "output_type": "stream",
          "name": "stdout",
          "text": [
            "Validation Accuracy: 0.6964102564102564\n",
            "Validation Classification Report:\n",
            "              precision    recall  f1-score   support\n",
            "\n",
            "           3       0.00      0.00      0.00         2\n",
            "           4       0.75      0.21      0.32        29\n",
            "           5       0.72      0.75      0.73       313\n",
            "           6       0.67      0.78      0.72       437\n",
            "           7       0.77      0.52      0.62       169\n",
            "           8       0.67      0.33      0.44        24\n",
            "           9       0.00      0.00      0.00         1\n",
            "\n",
            "    accuracy                           0.70       975\n",
            "   macro avg       0.51      0.37      0.41       975\n",
            "weighted avg       0.70      0.70      0.69       975\n",
            "\n",
            "Test Accuracy: 0.67\n",
            "Macro F1-score: 0.35\n",
            "Mean Squared Error: 0.50\n",
            "Mean Absolute Error: 0.38\n",
            "Root Mean Squared Error: 0.71\n",
            "R-squared: 0.33\n",
            "\n",
            "Actual\tPredicted\n",
            "------------------------------\n",
            "5\t6\n",
            "7\t7\n",
            "5\t5\n",
            "7\t7\n",
            "6\t6\n",
            "8\t6\n",
            "5\t5\n",
            "5\t5\n",
            "7\t6\n",
            "6\t5\n"
          ]
        },
        {
          "output_type": "stream",
          "name": "stderr",
          "text": [
            "/usr/local/lib/python3.10/dist-packages/sklearn/metrics/_classification.py:1344: UndefinedMetricWarning: Precision and F-score are ill-defined and being set to 0.0 in labels with no predicted samples. Use `zero_division` parameter to control this behavior.\n",
            "  _warn_prf(average, modifier, msg_start, len(result))\n",
            "/usr/local/lib/python3.10/dist-packages/sklearn/metrics/_classification.py:1344: UndefinedMetricWarning: Precision and F-score are ill-defined and being set to 0.0 in labels with no predicted samples. Use `zero_division` parameter to control this behavior.\n",
            "  _warn_prf(average, modifier, msg_start, len(result))\n",
            "/usr/local/lib/python3.10/dist-packages/sklearn/metrics/_classification.py:1344: UndefinedMetricWarning: Precision and F-score are ill-defined and being set to 0.0 in labels with no predicted samples. Use `zero_division` parameter to control this behavior.\n",
            "  _warn_prf(average, modifier, msg_start, len(result))\n"
          ]
        }
      ]
    },
    {
      "cell_type": "code",
      "source": [
        "import joblib\n",
        "\n",
        "# Calling out trained model\n",
        "joblib.dump(rf_model, 'rf_model.joblib')"
      ],
      "metadata": {
        "colab": {
          "base_uri": "https://localhost:8080/"
        },
        "id": "GvsWRWBDbTM4",
        "outputId": "976c00e8-f634-4df2-eb0c-8f2b217ef0ad"
      },
      "execution_count": 7,
      "outputs": [
        {
          "output_type": "execute_result",
          "data": {
            "text/plain": [
              "['rf_model.joblib']"
            ]
          },
          "metadata": {},
          "execution_count": 7
        }
      ]
    },
    {
      "cell_type": "code",
      "source": [
        "from flask import Flask, request, jsonify\n",
        "import pickle"
      ],
      "metadata": {
        "id": "2QLcRzt6bpJ9"
      },
      "execution_count": 8,
      "outputs": []
    },
    {
      "cell_type": "code",
      "source": [
        "import joblib\n",
        "\n",
        "# Save the model to a file\n",
        "joblib.dump(rf_model, 'rf_model.pkl')\n"
      ],
      "metadata": {
        "colab": {
          "base_uri": "https://localhost:8080/"
        },
        "id": "tl4km2BAcN2M",
        "outputId": "35674f98-02d5-4cb8-8009-89cd98798994"
      },
      "execution_count": 9,
      "outputs": [
        {
          "output_type": "execute_result",
          "data": {
            "text/plain": [
              "['rf_model.pkl']"
            ]
          },
          "metadata": {},
          "execution_count": 9
        }
      ]
    },
    {
      "cell_type": "code",
      "source": [
        "# Load the saved model\n",
        "loaded_model = joblib.load('rf_model.pkl')\n",
        "\n",
        "# Make predictions with the loaded model\n",
        "predictions = loaded_model.predict(X_test)\n"
      ],
      "metadata": {
        "id": "6HRg_zQvcI40"
      },
      "execution_count": 10,
      "outputs": []
    },
    {
      "cell_type": "code",
      "source": [
        "import joblib\n",
        "\n",
        "# Load the trained model\n",
        "model = joblib.load('/content/rf_model.joblib')\n"
      ],
      "metadata": {
        "id": "JaU7vw_Gclmt"
      },
      "execution_count": 11,
      "outputs": []
    },
    {
      "cell_type": "code",
      "source": [
        "from flask import Flask, request, jsonify\n",
        "import joblib"
      ],
      "metadata": {
        "id": "qOD10Asbct1z"
      },
      "execution_count": 12,
      "outputs": []
    },
    {
      "cell_type": "code",
      "source": [
        "app = Flask(__name__)"
      ],
      "metadata": {
        "id": "1gKH61UacwLc"
      },
      "execution_count": 13,
      "outputs": []
    },
    {
      "cell_type": "code",
      "source": [
        "# Load the trained Random Forest model\n",
        "rf_model = joblib.load('rf_model.joblib')"
      ],
      "metadata": {
        "id": "OGzkh4d-c1Y1"
      },
      "execution_count": 14,
      "outputs": []
    },
    {
      "cell_type": "code",
      "source": [
        "# HTML for the input form\n",
        "HTML = \"\"\"\n",
        "<!doctype html>\n",
        "<html lang=\"en\">\n",
        "  <head>\n",
        "    <title>Wine Quality Prediction</title>\n",
        "  </head>\n",
        "  <body>\n",
        "    <h2>Enter Wine Features</h2>\n",
        "    <form action=\"/predict\" method=\"post\">\n",
        "      <label for=\"features\">Enter features separated by comma:</label><br>\n",
        "      <input type=\"text\" id=\"features\" name=\"features\" size=\"50\"><br><br>\n",
        "      <input type=\"submit\" value=\"Predict Quality\">\n",
        "    </form>\n",
        "  </body>\n",
        "</html>\n",
        "\"\"\""
      ],
      "metadata": {
        "id": "QPL08yN6eNnY"
      },
      "execution_count": 15,
      "outputs": []
    },
    {
      "cell_type": "code",
      "source": [
        "from flask import Flask, render_template_string\n",
        "\n",
        "app = Flask(__name__)\n"
      ],
      "metadata": {
        "id": "cANrh0KsdJ71"
      },
      "execution_count": 16,
      "outputs": []
    },
    {
      "cell_type": "code",
      "source": [
        "@app.route('/')\n",
        "def home():\n",
        "    return render_template_string(HTML)\n",
        ""
      ],
      "metadata": {
        "id": "RCIYDElwe5LM"
      },
      "execution_count": 17,
      "outputs": []
    },
    {
      "cell_type": "code",
      "source": [
        "\n",
        "@app.route('/predict', methods=['POST'])\n",
        "def predict():\n",
        "    # Extracting features from the form input\n",
        "    feature_string = request.form['features']\n",
        "    features = np.array([float(x) for x in feature_string.split(',')])\n",
        "    features = features.reshape(1, -1)  # Reshape for a single sample\n",
        "    prediction = model.predict(features)\n",
        "    return jsonify({'prediction': prediction.tolist()})\n",
        "\n",
        "if __name__ == '__main__':\n",
        "    app.run(debug=True)"
      ],
      "metadata": {
        "colab": {
          "base_uri": "https://localhost:8080/"
        },
        "id": "iaExB7dCfWdB",
        "outputId": "84932d41-e461-4d72-d197-295d5ba15bae"
      },
      "execution_count": 18,
      "outputs": [
        {
          "output_type": "stream",
          "name": "stdout",
          "text": [
            " * Serving Flask app '__main__'\n",
            " * Debug mode: on\n"
          ]
        },
        {
          "output_type": "stream",
          "name": "stderr",
          "text": [
            "INFO:werkzeug:\u001b[31m\u001b[1mWARNING: This is a development server. Do not use it in a production deployment. Use a production WSGI server instead.\u001b[0m\n",
            " * Running on http://127.0.0.1:5000\n",
            "INFO:werkzeug:\u001b[33mPress CTRL+C to quit\u001b[0m\n",
            "INFO:werkzeug: * Restarting with stat\n"
          ]
        }
      ]
    },
    {
      "cell_type": "code",
      "source": [
        "from flask import Flask, render_template\n",
        "\n",
        "app = Flask(__name__)\n",
        "\n",
        "@app.route('/')\n",
        "def home():\n",
        "    return render_template('home.html')\n",
        "\n",
        "if __name__ == '__main__':\n",
        "    app.run(debug=True)\n"
      ],
      "metadata": {
        "colab": {
          "base_uri": "https://localhost:8080/"
        },
        "id": "HpTi4ARDmzwK",
        "outputId": "b1b2b7f7-e7c2-4659-dff1-87a6aabe73a9"
      },
      "execution_count": 19,
      "outputs": [
        {
          "output_type": "stream",
          "name": "stdout",
          "text": [
            " * Serving Flask app '__main__'\n",
            " * Debug mode: on\n"
          ]
        },
        {
          "output_type": "stream",
          "name": "stderr",
          "text": [
            "INFO:werkzeug:\u001b[31m\u001b[1mWARNING: This is a development server. Do not use it in a production deployment. Use a production WSGI server instead.\u001b[0m\n",
            " * Running on http://127.0.0.1:5000\n",
            "INFO:werkzeug:\u001b[33mPress CTRL+C to quit\u001b[0m\n",
            "INFO:werkzeug: * Restarting with stat\n"
          ]
        }
      ]
    },
    {
      "cell_type": "code",
      "source": [
        "import os\n",
        "import pandas as pd\n",
        "\n",
        "# Get the current working directory\n",
        "script_dir = os.getcwd()\n",
        "\n",
        "# Construct the relative path to the file\n",
        "data_file = os.path.join(script_dir, 'wine_test.csv')\n",
        "\n",
        "# Read the data from the file\n",
        "data_test = pd.read_csv(data_file)\n"
      ],
      "metadata": {
        "id": "lBMX_I82tV_c"
      },
      "execution_count": 20,
      "outputs": []
    }
  ]
}